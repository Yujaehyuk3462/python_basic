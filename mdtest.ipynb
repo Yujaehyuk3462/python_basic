{
 "cells": [
  {
   "cell_type": "markdown",
   "id": "97b1230c-8a7d-42dc-8226-9c6a9ce0a12f",
   "metadata": {},
   "source": [
    "### 9번문제"
   ]
  },
  {
   "cell_type": "code",
   "execution_count": 11,
   "id": "8c08434d-2105-4f00-a45e-5347de7ac3f9",
   "metadata": {},
   "outputs": [
    {
     "data": {
      "text/html": [
       "<div>\n",
       "<style scoped>\n",
       "    .dataframe tbody tr th:only-of-type {\n",
       "        vertical-align: middle;\n",
       "    }\n",
       "\n",
       "    .dataframe tbody tr th {\n",
       "        vertical-align: top;\n",
       "    }\n",
       "\n",
       "    .dataframe thead th {\n",
       "        text-align: right;\n",
       "    }\n",
       "</style>\n",
       "<table border=\"1\" class=\"dataframe\">\n",
       "  <thead>\n",
       "    <tr style=\"text-align: right;\">\n",
       "      <th></th>\n",
       "      <th>이름</th>\n",
       "      <th>나이</th>\n",
       "      <th>성별</th>\n",
       "    </tr>\n",
       "  </thead>\n",
       "  <tbody>\n",
       "    <tr>\n",
       "      <th>0</th>\n",
       "      <td>철수</td>\n",
       "      <td>25</td>\n",
       "      <td>남자</td>\n",
       "    </tr>\n",
       "    <tr>\n",
       "      <th>1</th>\n",
       "      <td>영희</td>\n",
       "      <td>30</td>\n",
       "      <td>여자</td>\n",
       "    </tr>\n",
       "    <tr>\n",
       "      <th>2</th>\n",
       "      <td>민수</td>\n",
       "      <td>22</td>\n",
       "      <td>남자</td>\n",
       "    </tr>\n",
       "    <tr>\n",
       "      <th>3</th>\n",
       "      <td>지영</td>\n",
       "      <td>28</td>\n",
       "      <td>여자</td>\n",
       "    </tr>\n",
       "  </tbody>\n",
       "</table>\n",
       "</div>"
      ],
      "text/plain": [
       "   이름  나이  성별\n",
       "0  철수  25  남자\n",
       "1  영희  30  여자\n",
       "2  민수  22  남자\n",
       "3  지영  28  여자"
      ]
     },
     "execution_count": 11,
     "metadata": {},
     "output_type": "execute_result"
    }
   ],
   "source": [
    "import pandas as pd\n",
    "data = {'이름':['철수','영희','민수','지영'], '나이':[25,30,22,28], '성별':['남자','여자','남자','여자']}\n",
    "df = pd.DataFrame(data)\n",
    "df"
   ]
  },
  {
   "cell_type": "markdown",
   "id": "a86d2997-cba5-420d-a93b-b931d548d44c",
   "metadata": {},
   "source": [
    "### 10번문제"
   ]
  },
  {
   "cell_type": "code",
   "execution_count": 25,
   "id": "f308dfcc-934a-4c2e-b33d-12074d2fd075",
   "metadata": {},
   "outputs": [
    {
     "data": {
      "text/html": [
       "<div>\n",
       "<style scoped>\n",
       "    .dataframe tbody tr th:only-of-type {\n",
       "        vertical-align: middle;\n",
       "    }\n",
       "\n",
       "    .dataframe tbody tr th {\n",
       "        vertical-align: top;\n",
       "    }\n",
       "\n",
       "    .dataframe thead th {\n",
       "        text-align: right;\n",
       "    }\n",
       "</style>\n",
       "<table border=\"1\" class=\"dataframe\">\n",
       "  <thead>\n",
       "    <tr style=\"text-align: right;\">\n",
       "      <th></th>\n",
       "      <th>col1</th>\n",
       "      <th>col2</th>\n",
       "    </tr>\n",
       "  </thead>\n",
       "  <tbody>\n",
       "    <tr>\n",
       "      <th>0</th>\n",
       "      <td>a</td>\n",
       "      <td>1</td>\n",
       "    </tr>\n",
       "    <tr>\n",
       "      <th>1</th>\n",
       "      <td>b</td>\n",
       "      <td>2</td>\n",
       "    </tr>\n",
       "    <tr>\n",
       "      <th>2</th>\n",
       "      <td>c</td>\n",
       "      <td>3</td>\n",
       "    </tr>\n",
       "  </tbody>\n",
       "</table>\n",
       "</div>"
      ],
      "text/plain": [
       "  col1  col2\n",
       "0    a     1\n",
       "1    b     2\n",
       "2    c     3"
      ]
     },
     "execution_count": 25,
     "metadata": {},
     "output_type": "execute_result"
    }
   ],
   "source": [
    "import pandas as pd\n",
    "data = {'col1':['a','b','c'], 'col2':[1,2,3]}\n",
    "df = pd.DataFrame(data)\n",
    "df\n",
    "df1 = df.loc[:2, 'col1':'col2']\n",
    "df1\n"
   ]
  },
  {
   "cell_type": "markdown",
   "id": "63a51072-18b6-4bf0-850d-49d1658a1ad3",
   "metadata": {},
   "source": [
    "### 12번 문제"
   ]
  },
  {
   "cell_type": "code",
   "execution_count": 36,
   "id": "ad682954-d97c-463e-ac26-290db0bd743e",
   "metadata": {},
   "outputs": [
    {
     "data": {
      "text/html": [
       "<div>\n",
       "<style scoped>\n",
       "    .dataframe tbody tr th:only-of-type {\n",
       "        vertical-align: middle;\n",
       "    }\n",
       "\n",
       "    .dataframe tbody tr th {\n",
       "        vertical-align: top;\n",
       "    }\n",
       "\n",
       "    .dataframe thead th {\n",
       "        text-align: right;\n",
       "    }\n",
       "</style>\n",
       "<table border=\"1\" class=\"dataframe\">\n",
       "  <thead>\n",
       "    <tr style=\"text-align: right;\">\n",
       "      <th></th>\n",
       "      <th>col1</th>\n",
       "      <th>col2</th>\n",
       "      <th>col3</th>\n",
       "      <th>col4</th>\n",
       "    </tr>\n",
       "  </thead>\n",
       "  <tbody>\n",
       "    <tr>\n",
       "      <th>0</th>\n",
       "      <td>a</td>\n",
       "      <td>1.0</td>\n",
       "      <td>a</td>\n",
       "      <td>10.0</td>\n",
       "    </tr>\n",
       "    <tr>\n",
       "      <th>1</th>\n",
       "      <td>b</td>\n",
       "      <td>2.0</td>\n",
       "      <td>b</td>\n",
       "      <td>20.0</td>\n",
       "    </tr>\n",
       "    <tr>\n",
       "      <th>2</th>\n",
       "      <td>c</td>\n",
       "      <td>3.0</td>\n",
       "      <td>NaN</td>\n",
       "      <td>NaN</td>\n",
       "    </tr>\n",
       "    <tr>\n",
       "      <th>3</th>\n",
       "      <td>NaN</td>\n",
       "      <td>NaN</td>\n",
       "      <td>f</td>\n",
       "      <td>30.0</td>\n",
       "    </tr>\n",
       "  </tbody>\n",
       "</table>\n",
       "</div>"
      ],
      "text/plain": [
       "  col1  col2 col3  col4\n",
       "0    a   1.0    a  10.0\n",
       "1    b   2.0    b  20.0\n",
       "2    c   3.0  NaN   NaN\n",
       "3  NaN   NaN    f  30.0"
      ]
     },
     "execution_count": 36,
     "metadata": {},
     "output_type": "execute_result"
    }
   ],
   "source": [
    "import pandas as pd\n",
    "data = {'col1':['a','b','c'], 'col2':[1,2,3]}\n",
    "data2 = {'col3':['a','b','f'], 'col4':[10,20,30]}\n",
    "df1 = pd.DataFrame(data)\n",
    "df2 = pd.DataFrame(data2)\n",
    "df3 = pd.merge(df1, df2, left_on=\"col1\", right_on=\"col3\", how=\"outer\")\n",
    "df3"
   ]
  },
  {
   "cell_type": "markdown",
   "id": "7d2acebb-073f-4b88-9f6c-d39bc2ded9e4",
   "metadata": {},
   "source": [
    "### 13번 문제"
   ]
  },
  {
   "cell_type": "code",
   "execution_count": 42,
   "id": "8bd763cf-f14b-4f33-b3ad-f272ba206a94",
   "metadata": {},
   "outputs": [
    {
     "data": {
      "text/html": [
       "<div>\n",
       "<style scoped>\n",
       "    .dataframe tbody tr th:only-of-type {\n",
       "        vertical-align: middle;\n",
       "    }\n",
       "\n",
       "    .dataframe tbody tr th {\n",
       "        vertical-align: top;\n",
       "    }\n",
       "\n",
       "    .dataframe thead th {\n",
       "        text-align: right;\n",
       "    }\n",
       "</style>\n",
       "<table border=\"1\" class=\"dataframe\">\n",
       "  <thead>\n",
       "    <tr style=\"text-align: right;\">\n",
       "      <th></th>\n",
       "      <th>name</th>\n",
       "      <th>score</th>\n",
       "    </tr>\n",
       "  </thead>\n",
       "  <tbody>\n",
       "    <tr>\n",
       "      <th>1</th>\n",
       "      <td>영희</td>\n",
       "      <td>88</td>\n",
       "    </tr>\n",
       "    <tr>\n",
       "      <th>2</th>\n",
       "      <td>민수</td>\n",
       "      <td>92</td>\n",
       "    </tr>\n",
       "  </tbody>\n",
       "</table>\n",
       "</div>"
      ],
      "text/plain": [
       "  name  score\n",
       "1   영희     88\n",
       "2   민수     92"
      ]
     },
     "execution_count": 42,
     "metadata": {},
     "output_type": "execute_result"
    }
   ],
   "source": [
    "import pandas as pd\n",
    "data = {'name':['철수','영희','민수','지영'], 'score':[75,88,92,68]}\n",
    "df = pd.DataFrame(data)\n",
    "df1 = df[df['score']>=80]\n",
    "df1"
   ]
  },
  {
   "cell_type": "markdown",
   "id": "f94d7683-1b7b-4744-84a7-77e5fb6c9d5f",
   "metadata": {},
   "source": [
    "### 14번 문제"
   ]
  },
  {
   "cell_type": "code",
   "execution_count": 46,
   "id": "d9e1a7ad-24b4-450b-903d-33798299e129",
   "metadata": {},
   "outputs": [
    {
     "name": "stdout",
     "output_type": "stream",
     "text": [
      "    name  score\n",
      "0  False  False\n",
      "1  False  False\n",
      "2   True   True\n",
      "3  False  False\n"
     ]
    }
   ],
   "source": [
    "import pandas as pd\n",
    "data = {'name': ['철수', '영희',None, '지영'], 'score': [75, 88, None, 68]} \n",
    "df = pd.DataFrame(data)\n",
    "result = df.isna()\n",
    "print(result)"
   ]
  },
  {
   "cell_type": "markdown",
   "id": "e9822264-5e9e-4d71-b461-c1647aeba3bb",
   "metadata": {},
   "source": [
    "### 15번 문제"
   ]
  },
  {
   "cell_type": "code",
   "execution_count": 20,
   "id": "e191c10b-19b6-47ef-ae4f-5cb2031bfd17",
   "metadata": {},
   "outputs": [
    {
     "data": {
      "text/plain": [
       "85.0"
      ]
     },
     "execution_count": 20,
     "metadata": {},
     "output_type": "execute_result"
    }
   ],
   "source": [
    "import pandas as pd\n",
    "data = {'name': ['철수', '영희','민수'], 'score': [75, 88, 92]} \n",
    "df = pd.DataFrame(data)\n",
    "df\n",
    "df['score'].mean()\n",
    "#정답 2번 4번"
   ]
  },
  {
   "cell_type": "markdown",
   "id": "b87b8075-f3ad-4fed-8396-08aab461868c",
   "metadata": {},
   "source": [
    "### 16번 문제"
   ]
  },
  {
   "cell_type": "code",
   "execution_count": 25,
   "id": "0d0d36f8-f5e0-4837-bc81-7b003ba88f31",
   "metadata": {},
   "outputs": [
    {
     "name": "stdout",
     "output_type": "stream",
     "text": [
      "   col1  col2\n",
      "0     1     4\n",
      "1     2     5\n",
      "2     3     6\n"
     ]
    },
    {
     "data": {
      "text/plain": [
       "0    5\n",
       "1    7\n",
       "2    9\n",
       "dtype: int64"
      ]
     },
     "execution_count": 25,
     "metadata": {},
     "output_type": "execute_result"
    }
   ],
   "source": [
    "import pandas as pd\n",
    "data = {'col1':[1,2,3],'col2':[4,5,6]}\n",
    "df = pd.DataFrame(data)\n",
    "print(df)\n",
    "df1 = df.apply(lambda row: row['col1'] + row['col2'], axis = \"columns\")\n",
    "df1"
   ]
  },
  {
   "cell_type": "markdown",
   "id": "0042a366-7017-47cb-aa39-66466260e926",
   "metadata": {},
   "source": [
    "### 17번 문제"
   ]
  },
  {
   "cell_type": "code",
   "execution_count": 34,
   "id": "9597af0f-4021-4f04-8b38-799ec8c5b033",
   "metadata": {},
   "outputs": [
    {
     "data": {
      "text/html": [
       "<div>\n",
       "<style scoped>\n",
       "    .dataframe tbody tr th:only-of-type {\n",
       "        vertical-align: middle;\n",
       "    }\n",
       "\n",
       "    .dataframe tbody tr th {\n",
       "        vertical-align: top;\n",
       "    }\n",
       "\n",
       "    .dataframe thead th {\n",
       "        text-align: right;\n",
       "    }\n",
       "</style>\n",
       "<table border=\"1\" class=\"dataframe\">\n",
       "  <thead>\n",
       "    <tr style=\"text-align: right;\">\n",
       "      <th></th>\n",
       "      <th>names</th>\n",
       "      <th>score</th>\n",
       "    </tr>\n",
       "  </thead>\n",
       "  <tbody>\n",
       "    <tr>\n",
       "      <th>0</th>\n",
       "      <td>철수</td>\n",
       "      <td>75</td>\n",
       "    </tr>\n",
       "    <tr>\n",
       "      <th>1</th>\n",
       "      <td>영희</td>\n",
       "      <td>88</td>\n",
       "    </tr>\n",
       "    <tr>\n",
       "      <th>2</th>\n",
       "      <td>민수</td>\n",
       "      <td>92</td>\n",
       "    </tr>\n",
       "    <tr>\n",
       "      <th>3</th>\n",
       "      <td>지영</td>\n",
       "      <td>68</td>\n",
       "    </tr>\n",
       "    <tr>\n",
       "      <th>4</th>\n",
       "      <td>다현</td>\n",
       "      <td>95</td>\n",
       "    </tr>\n",
       "  </tbody>\n",
       "</table>\n",
       "</div>"
      ],
      "text/plain": [
       "  names  score\n",
       "0    철수     75\n",
       "1    영희     88\n",
       "2    민수     92\n",
       "3    지영     68\n",
       "4    다현     95"
      ]
     },
     "execution_count": 34,
     "metadata": {},
     "output_type": "execute_result"
    }
   ],
   "source": [
    "import pandas as pd\n",
    "data1 = {'names':['철수','영희','민수'],'score':[75,88,92]}\n",
    "data2 = {'names':['지영','다현'],'score':[68,95]}\n",
    "df1 = pd.DataFrame(data1)\n",
    "df2 = pd.DataFrame(data2)\n",
    "df_list = [df1,df2]\n",
    "pd.concat(df_list)\n",
    "df3 = pd.concat(df_list, ignore_index=True)\n",
    "df3"
   ]
  },
  {
   "cell_type": "markdown",
   "id": "9a7f7a6a-6b72-44a6-9f46-f4b213678d96",
   "metadata": {},
   "source": [
    "### 18번 문제"
   ]
  },
  {
   "cell_type": "code",
   "execution_count": 38,
   "id": "95f7a861-01e2-4999-ac3d-541b052cafe1",
   "metadata": {},
   "outputs": [
    {
     "data": {
      "text/html": [
       "<div>\n",
       "<style scoped>\n",
       "    .dataframe tbody tr th:only-of-type {\n",
       "        vertical-align: middle;\n",
       "    }\n",
       "\n",
       "    .dataframe tbody tr th {\n",
       "        vertical-align: top;\n",
       "    }\n",
       "\n",
       "    .dataframe thead th {\n",
       "        text-align: right;\n",
       "    }\n",
       "</style>\n",
       "<table border=\"1\" class=\"dataframe\">\n",
       "  <thead>\n",
       "    <tr style=\"text-align: right;\">\n",
       "      <th></th>\n",
       "      <th>name</th>\n",
       "      <th>score</th>\n",
       "      <th>attendence_rate</th>\n",
       "    </tr>\n",
       "  </thead>\n",
       "  <tbody>\n",
       "    <tr>\n",
       "      <th>0</th>\n",
       "      <td>철수</td>\n",
       "      <td>75</td>\n",
       "      <td>80</td>\n",
       "    </tr>\n",
       "    <tr>\n",
       "      <th>1</th>\n",
       "      <td>영희</td>\n",
       "      <td>88</td>\n",
       "      <td>90</td>\n",
       "    </tr>\n",
       "  </tbody>\n",
       "</table>\n",
       "</div>"
      ],
      "text/plain": [
       "  name  score  attendence_rate\n",
       "0   철수     75               80\n",
       "1   영희     88               90"
      ]
     },
     "execution_count": 38,
     "metadata": {},
     "output_type": "execute_result"
    }
   ],
   "source": [
    "import pandas as pd\n",
    "data1 = {'name':['철수','영희','민수'],'score':[75,88,92]}\n",
    "data2 = {'name':['영희','철수','지영','다현'],'attendence_rate':[90,80,95,85]}\n",
    "df1 = pd.DataFrame(data1)\n",
    "df2 = pd.DataFrame(data2)\n",
    "df3 = pd.merge(df1,df2, on='name', how='inner')\n",
    "df3"
   ]
  },
  {
   "cell_type": "markdown",
   "id": "66e50433-da3f-41db-95ca-2836a0957199",
   "metadata": {},
   "source": [
    "### 19-1번 문제"
   ]
  },
  {
   "cell_type": "code",
   "execution_count": 49,
   "id": "0aeb3be4-7081-4656-bf4b-13b46454e114",
   "metadata": {},
   "outputs": [
    {
     "name": "stdout",
     "output_type": "stream",
     "text": [
      "<h1>Example Domain</h1>\n"
     ]
    }
   ],
   "source": [
    "import requests\n",
    "from bs4 import BeautifulSoup\n",
    "url = 'https://example.com/'\n",
    "response = requests.get(url)\n",
    "html = response.text\n",
    "soup = BeautifulSoup(html, 'html.parser')\n",
    "target_tag = soup.select_one('body > div > h1')\n",
    "target_content = target_tag.text if target_tag else '태그를 찾을 수 없음.'\n",
    "print(target_tag)"
   ]
  },
  {
   "cell_type": "code",
   "execution_count": null,
   "id": "4e3c747e-2dd1-4f67-a3f5-6f7e96031bc5",
   "metadata": {},
   "outputs": [],
   "source": []
  }
 ],
 "metadata": {
  "kernelspec": {
   "display_name": "Python 3 (ipykernel)",
   "language": "python",
   "name": "python3"
  },
  "language_info": {
   "codemirror_mode": {
    "name": "ipython",
    "version": 3
   },
   "file_extension": ".py",
   "mimetype": "text/x-python",
   "name": "python",
   "nbconvert_exporter": "python",
   "pygments_lexer": "ipython3",
   "version": "3.11.7"
  }
 },
 "nbformat": 4,
 "nbformat_minor": 5
}
